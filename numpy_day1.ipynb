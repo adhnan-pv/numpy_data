{
 "cells": [
  {
   "cell_type": "code",
   "execution_count": 1,
   "id": "cc2fadaf",
   "metadata": {},
   "outputs": [],
   "source": [
    "import numpy as np"
   ]
  },
  {
   "cell_type": "code",
   "execution_count": 4,
   "id": "2a800b3f",
   "metadata": {},
   "outputs": [],
   "source": [
    "arr=np.array([1,2,3])"
   ]
  },
  {
   "cell_type": "code",
   "execution_count": 5,
   "id": "221bf4ad",
   "metadata": {},
   "outputs": [
    {
     "data": {
      "text/plain": [
       "array([1, 2, 3])"
      ]
     },
     "execution_count": 5,
     "metadata": {},
     "output_type": "execute_result"
    }
   ],
   "source": [
    "arr"
   ]
  },
  {
   "cell_type": "code",
   "execution_count": 6,
   "id": "87ddd860",
   "metadata": {},
   "outputs": [],
   "source": [
    "arr2=np.array([[1,2,3],[4,5,6]])"
   ]
  },
  {
   "cell_type": "code",
   "execution_count": 7,
   "id": "a7be0b4a",
   "metadata": {},
   "outputs": [
    {
     "data": {
      "text/plain": [
       "array([[1, 2, 3],\n",
       "       [4, 5, 6]])"
      ]
     },
     "execution_count": 7,
     "metadata": {},
     "output_type": "execute_result"
    }
   ],
   "source": [
    "arr2"
   ]
  },
  {
   "cell_type": "code",
   "execution_count": 14,
   "id": "97c91e55",
   "metadata": {},
   "outputs": [],
   "source": [
    "arr3=np.array([[[1,2,3],[4,5,6],[7,8,9]]])"
   ]
  },
  {
   "cell_type": "code",
   "execution_count": 15,
   "id": "aac9fe33",
   "metadata": {},
   "outputs": [
    {
     "data": {
      "text/plain": [
       "array([[[1, 2, 3],\n",
       "        [4, 5, 6],\n",
       "        [7, 8, 9]]])"
      ]
     },
     "execution_count": 15,
     "metadata": {},
     "output_type": "execute_result"
    }
   ],
   "source": [
    "arr3"
   ]
  },
  {
   "cell_type": "code",
   "execution_count": 10,
   "id": "5fbe89dd",
   "metadata": {},
   "outputs": [
    {
     "data": {
      "text/plain": [
       "1"
      ]
     },
     "execution_count": 10,
     "metadata": {},
     "output_type": "execute_result"
    }
   ],
   "source": [
    "arr.ndim      #dim denotes dimentions"
   ]
  },
  {
   "cell_type": "code",
   "execution_count": 11,
   "id": "8752e968",
   "metadata": {},
   "outputs": [
    {
     "data": {
      "text/plain": [
       "2"
      ]
     },
     "execution_count": 11,
     "metadata": {},
     "output_type": "execute_result"
    }
   ],
   "source": [
    "arr2.ndim     #denotes raws ne parayan patulla bracket nokkiyal manasilavum "
   ]
  },
  {
   "cell_type": "raw",
   "id": "9868b5d0",
   "metadata": {},
   "source": [
    "arr"
   ]
  },
  {
   "cell_type": "code",
   "execution_count": 8,
   "id": "8bf59264",
   "metadata": {},
   "outputs": [
    {
     "data": {
      "text/plain": [
       "array([[1, 2, 3],\n",
       "       [4, 5, 6]])"
      ]
     },
     "execution_count": 8,
     "metadata": {},
     "output_type": "execute_result"
    }
   ],
   "source": [
    "arr2"
   ]
  },
  {
   "cell_type": "code",
   "execution_count": 36,
   "id": "b2224969",
   "metadata": {},
   "outputs": [
    {
     "data": {
      "text/plain": [
       "3"
      ]
     },
     "execution_count": 36,
     "metadata": {},
     "output_type": "execute_result"
    }
   ],
   "source": [
    "arr[2]"
   ]
  },
  {
   "cell_type": "code",
   "execution_count": 10,
   "id": "817a78c3",
   "metadata": {},
   "outputs": [
    {
     "data": {
      "text/plain": [
       "array([1, 2, 3])"
      ]
     },
     "execution_count": 10,
     "metadata": {},
     "output_type": "execute_result"
    }
   ],
   "source": [
    "arr"
   ]
  },
  {
   "cell_type": "code",
   "execution_count": 11,
   "id": "fe8df264",
   "metadata": {},
   "outputs": [
    {
     "data": {
      "text/plain": [
       "1"
      ]
     },
     "execution_count": 11,
     "metadata": {},
     "output_type": "execute_result"
    }
   ],
   "source": [
    "arr[0]"
   ]
  },
  {
   "cell_type": "code",
   "execution_count": 16,
   "id": "0238caf7",
   "metadata": {},
   "outputs": [
    {
     "data": {
      "text/plain": [
       "array([1, 2, 3])"
      ]
     },
     "execution_count": 16,
     "metadata": {},
     "output_type": "execute_result"
    }
   ],
   "source": [
    "arr3[0][0]"
   ]
  },
  {
   "cell_type": "code",
   "execution_count": 17,
   "id": "785c5f0d",
   "metadata": {},
   "outputs": [
    {
     "data": {
      "text/plain": [
       "(3,)"
      ]
     },
     "execution_count": 17,
     "metadata": {},
     "output_type": "execute_result"
    }
   ],
   "source": [
    "arr.shape"
   ]
  },
  {
   "cell_type": "code",
   "execution_count": 20,
   "id": "0482366c",
   "metadata": {},
   "outputs": [],
   "source": [
    "arr5=np.arange(1,11)"
   ]
  },
  {
   "cell_type": "code",
   "execution_count": 21,
   "id": "0cc9a697",
   "metadata": {},
   "outputs": [
    {
     "data": {
      "text/plain": [
       "array([ 1,  2,  3,  4,  5,  6,  7,  8,  9, 10])"
      ]
     },
     "execution_count": 21,
     "metadata": {},
     "output_type": "execute_result"
    }
   ],
   "source": [
    "arr5"
   ]
  },
  {
   "cell_type": "code",
   "execution_count": 24,
   "id": "fe7d8bce",
   "metadata": {},
   "outputs": [],
   "source": [
    "arr6=np.arange(10,21)"
   ]
  },
  {
   "cell_type": "code",
   "execution_count": 25,
   "id": "d489c261",
   "metadata": {},
   "outputs": [
    {
     "data": {
      "text/plain": [
       "array([10, 11, 12, 13, 14, 15, 16, 17, 18, 19, 20])"
      ]
     },
     "execution_count": 25,
     "metadata": {},
     "output_type": "execute_result"
    }
   ],
   "source": [
    "arr6"
   ]
  },
  {
   "cell_type": "code",
   "execution_count": 26,
   "id": "7bd9d5bc",
   "metadata": {},
   "outputs": [],
   "source": [
    "arr7=np.arange(10,21,2)"
   ]
  },
  {
   "cell_type": "code",
   "execution_count": 27,
   "id": "41f83fea",
   "metadata": {},
   "outputs": [
    {
     "data": {
      "text/plain": [
       "array([10, 12, 14, 16, 18, 20])"
      ]
     },
     "execution_count": 27,
     "metadata": {},
     "output_type": "execute_result"
    }
   ],
   "source": [
    "arr7"
   ]
  },
  {
   "cell_type": "code",
   "execution_count": 28,
   "id": "9ccd7854",
   "metadata": {},
   "outputs": [
    {
     "data": {
      "text/plain": [
       "array([[0., 0., 0.],\n",
       "       [0., 0., 0.],\n",
       "       [0., 0., 0.]])"
      ]
     },
     "execution_count": 28,
     "metadata": {},
     "output_type": "execute_result"
    }
   ],
   "source": [
    "zero_matri=np.zeros((3,3))\n",
    "zero_matri"
   ]
  },
  {
   "cell_type": "code",
   "execution_count": 29,
   "id": "5973708f",
   "metadata": {},
   "outputs": [],
   "source": [
    "one_matri=np.ones((4,4))"
   ]
  },
  {
   "cell_type": "code",
   "execution_count": 30,
   "id": "901cae07",
   "metadata": {},
   "outputs": [
    {
     "data": {
      "text/plain": [
       "array([[1., 1., 1., 1.],\n",
       "       [1., 1., 1., 1.],\n",
       "       [1., 1., 1., 1.],\n",
       "       [1., 1., 1., 1.]])"
      ]
     },
     "execution_count": 30,
     "metadata": {},
     "output_type": "execute_result"
    }
   ],
   "source": [
    "one_matri"
   ]
  },
  {
   "cell_type": "code",
   "execution_count": 31,
   "id": "ca20a80d",
   "metadata": {},
   "outputs": [],
   "source": [
    "random_matrix=np.random.rand(4,4)    #b/w 0 and 1"
   ]
  },
  {
   "cell_type": "code",
   "execution_count": 32,
   "id": "8ea81d89",
   "metadata": {},
   "outputs": [
    {
     "data": {
      "text/plain": [
       "array([[0.71328983, 0.02871615, 0.19330383, 0.66335333],\n",
       "       [0.5493189 , 0.50486955, 0.38919812, 0.86273412],\n",
       "       [0.84202757, 0.42067695, 0.43763934, 0.32759153],\n",
       "       [0.57625088, 0.77939499, 0.88638024, 0.1187033 ]])"
      ]
     },
     "execution_count": 32,
     "metadata": {},
     "output_type": "execute_result"
    }
   ],
   "source": [
    "random_matrix"
   ]
  },
  {
   "cell_type": "code",
   "execution_count": 33,
   "id": "ca6699e4",
   "metadata": {},
   "outputs": [],
   "source": [
    "random_matrix2=np.random.randint(1,11,size=(3,3))  #random ayyit 1 to 11"
   ]
  },
  {
   "cell_type": "code",
   "execution_count": 34,
   "id": "800539a3",
   "metadata": {},
   "outputs": [
    {
     "data": {
      "text/plain": [
       "array([[6, 4, 5],\n",
       "       [8, 6, 5],\n",
       "       [1, 3, 5]])"
      ]
     },
     "execution_count": 34,
     "metadata": {},
     "output_type": "execute_result"
    }
   ],
   "source": [
    "random_matrix2"
   ]
  },
  {
   "cell_type": "code",
   "execution_count": 37,
   "id": "f2e3103e",
   "metadata": {},
   "outputs": [
    {
     "data": {
      "text/plain": [
       "array([ 1,  2,  3,  4,  5,  6,  7,  8,  9, 10])"
      ]
     },
     "execution_count": 37,
     "metadata": {},
     "output_type": "execute_result"
    }
   ],
   "source": [
    "arr5"
   ]
  },
  {
   "cell_type": "code",
   "execution_count": 2,
   "id": "945dc2b4",
   "metadata": {},
   "outputs": [],
   "source": [
    "arry=np.arange(1,51)"
   ]
  },
  {
   "cell_type": "code",
   "execution_count": 3,
   "id": "dc0b8e1e",
   "metadata": {},
   "outputs": [
    {
     "data": {
      "text/plain": [
       "array([ 1,  2,  3,  4,  5,  6,  7,  8,  9, 10, 11, 12, 13, 14, 15, 16, 17,\n",
       "       18, 19, 20, 21, 22, 23, 24, 25, 26, 27, 28, 29, 30, 31, 32, 33, 34,\n",
       "       35, 36, 37, 38, 39, 40, 41, 42, 43, 44, 45, 46, 47, 48, 49, 50])"
      ]
     },
     "execution_count": 3,
     "metadata": {},
     "output_type": "execute_result"
    }
   ],
   "source": [
    "arry"
   ]
  },
  {
   "cell_type": "code",
   "execution_count": 4,
   "id": "298392cd",
   "metadata": {},
   "outputs": [],
   "source": [
    "arry1=np.array([[1,1,1],[1,1,1]])"
   ]
  },
  {
   "cell_type": "code",
   "execution_count": 5,
   "id": "da43ac14",
   "metadata": {},
   "outputs": [
    {
     "data": {
      "text/plain": [
       "array([[1, 1, 1],\n",
       "       [1, 1, 1]])"
      ]
     },
     "execution_count": 5,
     "metadata": {},
     "output_type": "execute_result"
    }
   ],
   "source": [
    "arry1"
   ]
  },
  {
   "cell_type": "code",
   "execution_count": 8,
   "id": "e69ab5ab",
   "metadata": {},
   "outputs": [],
   "source": [
    "arry2=np.array([[0,0,0],[0,0,0]])"
   ]
  },
  {
   "cell_type": "code",
   "execution_count": 10,
   "id": "e1dff08d",
   "metadata": {},
   "outputs": [
    {
     "data": {
      "text/plain": [
       "array([[0, 0, 0],\n",
       "       [0, 0, 0]])"
      ]
     },
     "execution_count": 10,
     "metadata": {},
     "output_type": "execute_result"
    }
   ],
   "source": [
    "arry2"
   ]
  },
  {
   "cell_type": "code",
   "execution_count": 11,
   "id": "fade8a99",
   "metadata": {},
   "outputs": [],
   "source": [
    "matrix=np.random.rand(4,4)"
   ]
  },
  {
   "cell_type": "code",
   "execution_count": 12,
   "id": "5cbb3de2",
   "metadata": {},
   "outputs": [
    {
     "data": {
      "text/plain": [
       "array([[0.80727709, 0.12304522, 0.38623768, 0.28838621],\n",
       "       [0.43859386, 0.66781281, 0.07908156, 0.09832017],\n",
       "       [0.22377041, 0.44986896, 0.45517128, 0.70288338],\n",
       "       [0.85933009, 0.65672808, 0.82559826, 0.76091166]])"
      ]
     },
     "execution_count": 12,
     "metadata": {},
     "output_type": "execute_result"
    }
   ],
   "source": [
    "matrix"
   ]
  },
  {
   "cell_type": "code",
   "execution_count": 57,
   "id": "9173e818",
   "metadata": {},
   "outputs": [],
   "source": [
    "random_mat=np.random.randint(0,100,size=(3,3))"
   ]
  },
  {
   "cell_type": "code",
   "execution_count": 58,
   "id": "565076f4",
   "metadata": {},
   "outputs": [
    {
     "data": {
      "text/plain": [
       "array([[11, 36, 92],\n",
       "       [87, 80, 31],\n",
       "       [35, 33,  0]])"
      ]
     },
     "execution_count": 58,
     "metadata": {},
     "output_type": "execute_result"
    }
   ],
   "source": [
    "random_mat"
   ]
  },
  {
   "cell_type": "code",
   "execution_count": 2,
   "id": "ca23306c",
   "metadata": {},
   "outputs": [],
   "source": [
    "import numpy as np"
   ]
  },
  {
   "cell_type": "code",
   "execution_count": 20,
   "id": "b8e6d8b1",
   "metadata": {},
   "outputs": [],
   "source": [
    "array3=np.zeros((2,3))"
   ]
  },
  {
   "cell_type": "code",
   "execution_count": 8,
   "id": "faaf7ca4",
   "metadata": {},
   "outputs": [
    {
     "data": {
      "text/plain": [
       "array([[0., 0., 0.],\n",
       "       [0., 0., 0.]])"
      ]
     },
     "execution_count": 8,
     "metadata": {},
     "output_type": "execute_result"
    }
   ],
   "source": [
    "array3"
   ]
  },
  {
   "cell_type": "code",
   "execution_count": 13,
   "id": "5e16ef36",
   "metadata": {},
   "outputs": [],
   "source": [
    "a=np.arange(0,4)"
   ]
  },
  {
   "cell_type": "code",
   "execution_count": 14,
   "id": "0bc7b697",
   "metadata": {},
   "outputs": [
    {
     "data": {
      "text/plain": [
       "array([0, 1, 2, 3])"
      ]
     },
     "execution_count": 14,
     "metadata": {},
     "output_type": "execute_result"
    }
   ],
   "source": [
    "a"
   ]
  },
  {
   "cell_type": "code",
   "execution_count": 15,
   "id": "d3c9abd6",
   "metadata": {},
   "outputs": [],
   "source": [
    "b=np.arange(4,8)"
   ]
  },
  {
   "cell_type": "code",
   "execution_count": 16,
   "id": "1f426f60",
   "metadata": {},
   "outputs": [
    {
     "data": {
      "text/plain": [
       "array([4, 5, 6, 7])"
      ]
     },
     "execution_count": 16,
     "metadata": {},
     "output_type": "execute_result"
    }
   ],
   "source": [
    "b"
   ]
  },
  {
   "cell_type": "code",
   "execution_count": 17,
   "id": "77f2a6e0",
   "metadata": {},
   "outputs": [],
   "source": [
    "c=np.arange(4)"
   ]
  },
  {
   "cell_type": "code",
   "execution_count": 18,
   "id": "819d18d1",
   "metadata": {},
   "outputs": [
    {
     "data": {
      "text/plain": [
       "array([0, 1, 2, 3])"
      ]
     },
     "execution_count": 18,
     "metadata": {},
     "output_type": "execute_result"
    }
   ],
   "source": [
    "c"
   ]
  },
  {
   "cell_type": "code",
   "execution_count": 21,
   "id": "2f3f3012",
   "metadata": {},
   "outputs": [],
   "source": [
    "d=a+b"
   ]
  },
  {
   "cell_type": "code",
   "execution_count": 22,
   "id": "f59bc708",
   "metadata": {},
   "outputs": [
    {
     "data": {
      "text/plain": [
       "array([ 4,  6,  8, 10])"
      ]
     },
     "execution_count": 22,
     "metadata": {},
     "output_type": "execute_result"
    }
   ],
   "source": [
    "d"
   ]
  },
  {
   "cell_type": "code",
   "execution_count": 23,
   "id": "ccac5809",
   "metadata": {},
   "outputs": [
    {
     "data": {
      "text/plain": [
       "array([-4, -4, -4, -4])"
      ]
     },
     "execution_count": 23,
     "metadata": {},
     "output_type": "execute_result"
    }
   ],
   "source": [
    "a-b"
   ]
  },
  {
   "cell_type": "code",
   "execution_count": 24,
   "id": "db651d05",
   "metadata": {},
   "outputs": [
    {
     "data": {
      "text/plain": [
       "array([0, 1, 4, 9])"
      ]
     },
     "execution_count": 24,
     "metadata": {},
     "output_type": "execute_result"
    }
   ],
   "source": [
    "a*c"
   ]
  },
  {
   "cell_type": "code",
   "execution_count": 25,
   "id": "bc64bbb6",
   "metadata": {},
   "outputs": [
    {
     "data": {
      "text/plain": [
       "array([ 4,  7, 10, 13])"
      ]
     },
     "execution_count": 25,
     "metadata": {},
     "output_type": "execute_result"
    }
   ],
   "source": [
    "a+b+c"
   ]
  },
  {
   "cell_type": "code",
   "execution_count": 26,
   "id": "f4958d63",
   "metadata": {},
   "outputs": [
    {
     "data": {
      "text/plain": [
       "array([ 0,  5, 12, 21])"
      ]
     },
     "execution_count": 26,
     "metadata": {},
     "output_type": "execute_result"
    }
   ],
   "source": [
    "a*b"
   ]
  },
  {
   "cell_type": "code",
   "execution_count": 27,
   "id": "7fd406b4",
   "metadata": {},
   "outputs": [
    {
     "data": {
      "text/plain": [
       "array([4, 5, 6, 7])"
      ]
     },
     "execution_count": 27,
     "metadata": {},
     "output_type": "execute_result"
    }
   ],
   "source": [
    "b"
   ]
  },
  {
   "cell_type": "code",
   "execution_count": 28,
   "id": "afbce611",
   "metadata": {},
   "outputs": [
    {
     "data": {
      "text/plain": [
       "array([ True,  True,  True,  True])"
      ]
     },
     "execution_count": 28,
     "metadata": {},
     "output_type": "execute_result"
    }
   ],
   "source": [
    "b<8"
   ]
  },
  {
   "cell_type": "code",
   "execution_count": 29,
   "id": "9933dba1",
   "metadata": {},
   "outputs": [
    {
     "data": {
      "text/plain": [
       "array([False, False, False, False])"
      ]
     },
     "execution_count": 29,
     "metadata": {},
     "output_type": "execute_result"
    }
   ],
   "source": [
    "b>8"
   ]
  },
  {
   "cell_type": "code",
   "execution_count": 30,
   "id": "1a886749",
   "metadata": {},
   "outputs": [
    {
     "data": {
      "text/plain": [
       "array([False, False, False,  True])"
      ]
     },
     "execution_count": 30,
     "metadata": {},
     "output_type": "execute_result"
    }
   ],
   "source": [
    "b>6"
   ]
  },
  {
   "cell_type": "code",
   "execution_count": 32,
   "id": "9ca8659d",
   "metadata": {},
   "outputs": [],
   "source": [
    "e=np.arange(12)"
   ]
  },
  {
   "cell_type": "code",
   "execution_count": 33,
   "id": "fb25550b",
   "metadata": {},
   "outputs": [
    {
     "data": {
      "text/plain": [
       "array([ 0,  1,  2,  3,  4,  5,  6,  7,  8,  9, 10, 11])"
      ]
     },
     "execution_count": 33,
     "metadata": {},
     "output_type": "execute_result"
    }
   ],
   "source": [
    "\n",
    "e"
   ]
  },
  {
   "cell_type": "code",
   "execution_count": 34,
   "id": "27507a87",
   "metadata": {},
   "outputs": [],
   "source": [
    "f=e.reshape(3,4)"
   ]
  },
  {
   "cell_type": "code",
   "execution_count": 35,
   "id": "fe6ecbf3",
   "metadata": {},
   "outputs": [
    {
     "data": {
      "text/plain": [
       "array([[ 0,  1,  2,  3],\n",
       "       [ 4,  5,  6,  7],\n",
       "       [ 8,  9, 10, 11]])"
      ]
     },
     "execution_count": 35,
     "metadata": {},
     "output_type": "execute_result"
    }
   ],
   "source": [
    "f"
   ]
  },
  {
   "cell_type": "code",
   "execution_count": 36,
   "id": "f89f7cba",
   "metadata": {},
   "outputs": [
    {
     "data": {
      "text/plain": [
       "66"
      ]
     },
     "execution_count": 36,
     "metadata": {},
     "output_type": "execute_result"
    }
   ],
   "source": [
    "f.sum()"
   ]
  },
  {
   "cell_type": "code",
   "execution_count": 37,
   "id": "5b87deb2",
   "metadata": {},
   "outputs": [
    {
     "data": {
      "text/plain": [
       "0"
      ]
     },
     "execution_count": 37,
     "metadata": {},
     "output_type": "execute_result"
    }
   ],
   "source": [
    "f.min()"
   ]
  },
  {
   "cell_type": "code",
   "execution_count": 38,
   "id": "8675269d",
   "metadata": {},
   "outputs": [
    {
     "data": {
      "text/plain": [
       "11"
      ]
     },
     "execution_count": 38,
     "metadata": {},
     "output_type": "execute_result"
    }
   ],
   "source": [
    "f.max()"
   ]
  },
  {
   "cell_type": "code",
   "execution_count": 39,
   "id": "2c12a7d2",
   "metadata": {},
   "outputs": [
    {
     "data": {
      "text/plain": [
       "5.5"
      ]
     },
     "execution_count": 39,
     "metadata": {},
     "output_type": "execute_result"
    }
   ],
   "source": [
    "f.mean()"
   ]
  },
  {
   "cell_type": "code",
   "execution_count": 40,
   "id": "8d6e2936",
   "metadata": {},
   "outputs": [
    {
     "data": {
      "text/plain": [
       "array([0, 4, 8])"
      ]
     },
     "execution_count": 40,
     "metadata": {},
     "output_type": "execute_result"
    }
   ],
   "source": [
    "f.min(axis=1)     #axis1=raws"
   ]
  },
  {
   "cell_type": "code",
   "execution_count": 41,
   "id": "6dca2c6d",
   "metadata": {},
   "outputs": [
    {
     "data": {
      "text/plain": [
       "array([0, 1, 2, 3])"
      ]
     },
     "execution_count": 41,
     "metadata": {},
     "output_type": "execute_result"
    }
   ],
   "source": [
    "f.min(axis=0)     #axis0=columns"
   ]
  },
  {
   "cell_type": "code",
   "execution_count": 42,
   "id": "2c64487e",
   "metadata": {},
   "outputs": [
    {
     "data": {
      "text/plain": [
       "array([12, 15, 18, 21])"
      ]
     },
     "execution_count": 42,
     "metadata": {},
     "output_type": "execute_result"
    }
   ],
   "source": [
    "f.sum(axis=0)"
   ]
  },
  {
   "cell_type": "code",
   "execution_count": 43,
   "id": "2ec0bab3",
   "metadata": {},
   "outputs": [
    {
     "data": {
      "text/plain": [
       "array([ 6, 22, 38])"
      ]
     },
     "execution_count": 43,
     "metadata": {},
     "output_type": "execute_result"
    }
   ],
   "source": [
    "f.sum(axis=1)"
   ]
  },
  {
   "cell_type": "code",
   "execution_count": 45,
   "id": "aff3fab0",
   "metadata": {},
   "outputs": [],
   "source": [
    "z=np.random.random((3,4))"
   ]
  },
  {
   "cell_type": "code",
   "execution_count": 46,
   "id": "5b57f0c1",
   "metadata": {},
   "outputs": [
    {
     "data": {
      "text/plain": [
       "array([[0.4905743 , 0.94169   , 0.24105213, 0.01527145],\n",
       "       [0.52624472, 0.57392848, 0.05604649, 0.96778341],\n",
       "       [0.58194803, 0.10737295, 0.06233401, 0.69515464]])"
      ]
     },
     "execution_count": 46,
     "metadata": {},
     "output_type": "execute_result"
    }
   ],
   "source": [
    "z"
   ]
  },
  {
   "cell_type": "code",
   "execution_count": 47,
   "id": "c12097dd",
   "metadata": {},
   "outputs": [
    {
     "data": {
      "text/plain": [
       "(3, 4)"
      ]
     },
     "execution_count": 47,
     "metadata": {},
     "output_type": "execute_result"
    }
   ],
   "source": [
    "z.shape"
   ]
  },
  {
   "cell_type": "code",
   "execution_count": 48,
   "id": "35e38d9d",
   "metadata": {},
   "outputs": [],
   "source": [
    "x=z.reshape(6,2)"
   ]
  },
  {
   "cell_type": "code",
   "execution_count": 49,
   "id": "53379e28",
   "metadata": {},
   "outputs": [
    {
     "data": {
      "text/plain": [
       "array([[0.4905743 , 0.94169   ],\n",
       "       [0.24105213, 0.01527145],\n",
       "       [0.52624472, 0.57392848],\n",
       "       [0.05604649, 0.96778341],\n",
       "       [0.58194803, 0.10737295],\n",
       "       [0.06233401, 0.69515464]])"
      ]
     },
     "execution_count": 49,
     "metadata": {},
     "output_type": "execute_result"
    }
   ],
   "source": [
    "x"
   ]
  },
  {
   "cell_type": "code",
   "execution_count": 50,
   "id": "e86af20f",
   "metadata": {},
   "outputs": [
    {
     "data": {
      "text/plain": [
       "array([0.4905743 , 0.94169   , 0.24105213, 0.01527145, 0.52624472,\n",
       "       0.57392848, 0.05604649, 0.96778341, 0.58194803, 0.10737295,\n",
       "       0.06233401, 0.69515464])"
      ]
     },
     "execution_count": 50,
     "metadata": {},
     "output_type": "execute_result"
    }
   ],
   "source": [
    "x.ravel()      #1d or flatten cheyyan venditte "
   ]
  },
  {
   "cell_type": "code",
   "execution_count": 51,
   "id": "5af4b6d5",
   "metadata": {},
   "outputs": [],
   "source": [
    "a=np.arange(4).reshape(2,2)"
   ]
  },
  {
   "cell_type": "code",
   "execution_count": 52,
   "id": "a79cf685",
   "metadata": {},
   "outputs": [
    {
     "data": {
      "text/plain": [
       "array([[0, 1],\n",
       "       [2, 3]])"
      ]
     },
     "execution_count": 52,
     "metadata": {},
     "output_type": "execute_result"
    }
   ],
   "source": [
    "a"
   ]
  },
  {
   "cell_type": "code",
   "execution_count": 53,
   "id": "337d7aeb",
   "metadata": {},
   "outputs": [],
   "source": [
    "b=np.arange(4,8).reshape(2,2)"
   ]
  },
  {
   "cell_type": "code",
   "execution_count": 54,
   "id": "43c4a339",
   "metadata": {},
   "outputs": [
    {
     "data": {
      "text/plain": [
       "array([[4, 5],\n",
       "       [6, 7]])"
      ]
     },
     "execution_count": 54,
     "metadata": {},
     "output_type": "execute_result"
    }
   ],
   "source": [
    "b"
   ]
  },
  {
   "cell_type": "code",
   "execution_count": 55,
   "id": "b220b950",
   "metadata": {},
   "outputs": [
    {
     "data": {
      "text/plain": [
       "array([[0, 1],\n",
       "       [2, 3],\n",
       "       [4, 5],\n",
       "       [6, 7]])"
      ]
     },
     "execution_count": 55,
     "metadata": {},
     "output_type": "execute_result"
    }
   ],
   "source": [
    "np.vstack((a,b))    #thaze thaze ayyit verum (verticle stack) \n"
   ]
  },
  {
   "cell_type": "code",
   "execution_count": 56,
   "id": "a1235d28",
   "metadata": {},
   "outputs": [
    {
     "data": {
      "text/plain": [
       "array([[0, 1, 4, 5],\n",
       "       [2, 3, 6, 7]])"
      ]
     },
     "execution_count": 56,
     "metadata": {},
     "output_type": "execute_result"
    }
   ],
   "source": [
    "np.hstack((a,b))     #side side ayyit (horizontal stack)"
   ]
  },
  {
   "cell_type": "code",
   "execution_count": 57,
   "id": "8eac3ebd",
   "metadata": {},
   "outputs": [
    {
     "data": {
      "text/plain": [
       "array([[1., 0., 0., 0.],\n",
       "       [0., 1., 0., 0.],\n",
       "       [0., 0., 1., 0.],\n",
       "       [0., 0., 0., 1.]])"
      ]
     },
     "execution_count": 57,
     "metadata": {},
     "output_type": "execute_result"
    }
   ],
   "source": [
    "np.eye(4,4)     #diagnally one ayirikum"
   ]
  },
  {
   "cell_type": "code",
   "execution_count": 58,
   "id": "8983b84d",
   "metadata": {},
   "outputs": [
    {
     "data": {
      "text/plain": [
       "dtype('int32')"
      ]
     },
     "execution_count": 58,
     "metadata": {},
     "output_type": "execute_result"
    }
   ],
   "source": [
    "a.dtype"
   ]
  },
  {
   "cell_type": "code",
   "execution_count": 59,
   "id": "ef3f8576",
   "metadata": {},
   "outputs": [],
   "source": [
    "h=np.array(['apple','orange','grape'])"
   ]
  },
  {
   "cell_type": "code",
   "execution_count": 60,
   "id": "615b114f",
   "metadata": {},
   "outputs": [
    {
     "data": {
      "text/plain": [
       "array(['apple', 'orange', 'grape'], dtype='<U6')"
      ]
     },
     "execution_count": 60,
     "metadata": {},
     "output_type": "execute_result"
    }
   ],
   "source": [
    "h"
   ]
  },
  {
   "cell_type": "code",
   "execution_count": 64,
   "id": "a9827696",
   "metadata": {},
   "outputs": [],
   "source": [
    "q=np.array(['apple','orange','grape'],dtype='S')   #dtype string akki matti"
   ]
  },
  {
   "cell_type": "code",
   "execution_count": 63,
   "id": "c2a82eb7",
   "metadata": {},
   "outputs": [
    {
     "data": {
      "text/plain": [
       "array([b'apple', b'orange', b'grape'], dtype='|S6')"
      ]
     },
     "execution_count": 63,
     "metadata": {},
     "output_type": "execute_result"
    }
   ],
   "source": [
    "q"
   ]
  },
  {
   "cell_type": "code",
   "execution_count": 65,
   "id": "6c3b50db",
   "metadata": {},
   "outputs": [],
   "source": [
    "h=np.array(['apple','orange','grape'])"
   ]
  },
  {
   "cell_type": "code",
   "execution_count": 66,
   "id": "f3823960",
   "metadata": {},
   "outputs": [
    {
     "data": {
      "text/plain": [
       "array(['apple', 'orange', 'grape'], dtype='<U6')"
      ]
     },
     "execution_count": 66,
     "metadata": {},
     "output_type": "execute_result"
    }
   ],
   "source": [
    "h"
   ]
  },
  {
   "cell_type": "code",
   "execution_count": 67,
   "id": "05ef556c",
   "metadata": {},
   "outputs": [],
   "source": [
    "e=h.astype('S')    #unicode ne string akki matti"
   ]
  },
  {
   "cell_type": "code",
   "execution_count": 68,
   "id": "6cb8acca",
   "metadata": {},
   "outputs": [
    {
     "data": {
      "text/plain": [
       "array([b'apple', b'orange', b'grape'], dtype='|S6')"
      ]
     },
     "execution_count": 68,
     "metadata": {},
     "output_type": "execute_result"
    }
   ],
   "source": [
    "e"
   ]
  },
  {
   "cell_type": "code",
   "execution_count": 69,
   "id": "7121c692",
   "metadata": {},
   "outputs": [],
   "source": [
    "o=e.copy()    #copy cheyyumbo orginal sadanathine mattam verulla "
   ]
  },
  {
   "cell_type": "code",
   "execution_count": 70,
   "id": "446d146c",
   "metadata": {},
   "outputs": [
    {
     "data": {
      "text/plain": [
       "array([b'apple', b'orange', b'grape'], dtype='|S6')"
      ]
     },
     "execution_count": 70,
     "metadata": {},
     "output_type": "execute_result"
    }
   ],
   "source": [
    "o"
   ]
  },
  {
   "cell_type": "code",
   "execution_count": 71,
   "id": "d3a743c4",
   "metadata": {},
   "outputs": [],
   "source": [
    "m=e.view()"
   ]
  },
  {
   "cell_type": "code",
   "execution_count": 72,
   "id": "72d5b1fa",
   "metadata": {},
   "outputs": [
    {
     "data": {
      "text/plain": [
       "array([b'apple', b'orange', b'grape'], dtype='|S6')"
      ]
     },
     "execution_count": 72,
     "metadata": {},
     "output_type": "execute_result"
    }
   ],
   "source": [
    "m"
   ]
  },
  {
   "cell_type": "code",
   "execution_count": 74,
   "id": "55599ffa",
   "metadata": {},
   "outputs": [],
   "source": [
    "o[0]='banana'"
   ]
  },
  {
   "cell_type": "code",
   "execution_count": 75,
   "id": "28fbeebf",
   "metadata": {},
   "outputs": [
    {
     "data": {
      "text/plain": [
       "array([b'banana', b'orange', b'grape'], dtype='|S6')"
      ]
     },
     "execution_count": 75,
     "metadata": {},
     "output_type": "execute_result"
    }
   ],
   "source": [
    "o"
   ]
  },
  {
   "cell_type": "code",
   "execution_count": 76,
   "id": "f2b53e33",
   "metadata": {},
   "outputs": [
    {
     "data": {
      "text/plain": [
       "array([b'apple', b'orange', b'grape'], dtype='|S6')"
      ]
     },
     "execution_count": 76,
     "metadata": {},
     "output_type": "execute_result"
    }
   ],
   "source": [
    "e    #e le marulla "
   ]
  },
  {
   "cell_type": "code",
   "execution_count": 77,
   "id": "f818dd27",
   "metadata": {},
   "outputs": [],
   "source": [
    "m[0]='banana'"
   ]
  },
  {
   "cell_type": "code",
   "execution_count": 78,
   "id": "701acbe4",
   "metadata": {},
   "outputs": [
    {
     "data": {
      "text/plain": [
       "array([b'banana', b'orange', b'grape'], dtype='|S6')"
      ]
     },
     "execution_count": 78,
     "metadata": {},
     "output_type": "execute_result"
    }
   ],
   "source": [
    "m"
   ]
  },
  {
   "cell_type": "code",
   "execution_count": 79,
   "id": "60ae7c60",
   "metadata": {},
   "outputs": [
    {
     "data": {
      "text/plain": [
       "array([b'banana', b'orange', b'grape'], dtype='|S6')"
      ]
     },
     "execution_count": 79,
     "metadata": {},
     "output_type": "execute_result"
    }
   ],
   "source": [
    "e"
   ]
  },
  {
   "cell_type": "code",
   "execution_count": 80,
   "id": "170c550c",
   "metadata": {},
   "outputs": [],
   "source": [
    "arr1=np.array([1,2])\n",
    "arr2=np.array([3,4])\n"
   ]
  },
  {
   "cell_type": "code",
   "execution_count": 81,
   "id": "52b86a5d",
   "metadata": {},
   "outputs": [],
   "source": [
    "arr=np.concatenate((arr1,arr2))"
   ]
  },
  {
   "cell_type": "code",
   "execution_count": 82,
   "id": "1a733228",
   "metadata": {},
   "outputs": [
    {
     "data": {
      "text/plain": [
       "array([1, 2, 3, 4])"
      ]
     },
     "execution_count": 82,
     "metadata": {},
     "output_type": "execute_result"
    }
   ],
   "source": [
    "arr"
   ]
  },
  {
   "cell_type": "code",
   "execution_count": 1,
   "id": "d268f485",
   "metadata": {},
   "outputs": [],
   "source": [
    "import numpy as np"
   ]
  },
  {
   "cell_type": "code",
   "execution_count": 16,
   "id": "753368a6",
   "metadata": {},
   "outputs": [],
   "source": [
    "a=np.array([1,2,3,4])"
   ]
  },
  {
   "cell_type": "code",
   "execution_count": 17,
   "id": "076a92b6",
   "metadata": {},
   "outputs": [
    {
     "data": {
      "text/plain": [
       "array([1, 2, 3, 4])"
      ]
     },
     "execution_count": 17,
     "metadata": {},
     "output_type": "execute_result"
    }
   ],
   "source": [
    "a"
   ]
  },
  {
   "cell_type": "code",
   "execution_count": 18,
   "id": "4401d249",
   "metadata": {},
   "outputs": [
    {
     "name": "stdout",
     "output_type": "stream",
     "text": [
      "1\n",
      "2\n",
      "3\n",
      "4\n"
     ]
    }
   ],
   "source": [
    "for x in a :\n",
    "    print(x)"
   ]
  },
  {
   "cell_type": "code",
   "execution_count": 19,
   "id": "d8e6a2fe",
   "metadata": {},
   "outputs": [
    {
     "name": "stdout",
     "output_type": "stream",
     "text": [
      "it is not 3\n",
      "it is not 3\n",
      "3 is present in here\n",
      "it is not 3\n"
     ]
    }
   ],
   "source": [
    "for x in a:\n",
    "    if (x==3):\n",
    "        print('3 is present in here')\n",
    "    else:\n",
    "        print('it is not 3')"
   ]
  },
  {
   "cell_type": "code",
   "execution_count": 6,
   "id": "95061b0a",
   "metadata": {},
   "outputs": [],
   "source": [
    "b=np.array([[1,2,3],[4,5,6]])"
   ]
  },
  {
   "cell_type": "code",
   "execution_count": 7,
   "id": "f69bf38a",
   "metadata": {},
   "outputs": [
    {
     "data": {
      "text/plain": [
       "array([[1, 2, 3],\n",
       "       [4, 5, 6]])"
      ]
     },
     "execution_count": 7,
     "metadata": {},
     "output_type": "execute_result"
    }
   ],
   "source": [
    "b"
   ]
  },
  {
   "cell_type": "code",
   "execution_count": 8,
   "id": "7938f861",
   "metadata": {},
   "outputs": [
    {
     "name": "stdout",
     "output_type": "stream",
     "text": [
      "[1 2 3]\n",
      "[4 5 6]\n"
     ]
    }
   ],
   "source": [
    "for x in b:\n",
    "    print(x)"
   ]
  },
  {
   "cell_type": "code",
   "execution_count": 9,
   "id": "1a5cb1c2",
   "metadata": {},
   "outputs": [],
   "source": [
    "c=np.array([[[1,2,3],[4,5,6],[7,8,9]]])"
   ]
  },
  {
   "cell_type": "code",
   "execution_count": 13,
   "id": "fafec8dd",
   "metadata": {},
   "outputs": [
    {
     "name": "stdout",
     "output_type": "stream",
     "text": [
      "[[1 2 3]\n",
      " [4 5 6]\n",
      " [7 8 9]]\n"
     ]
    }
   ],
   "source": [
    "for x in c:\n",
    "    print(x)"
   ]
  },
  {
   "cell_type": "code",
   "execution_count": 14,
   "id": "bb28ad85",
   "metadata": {},
   "outputs": [
    {
     "name": "stdout",
     "output_type": "stream",
     "text": [
      "1\n",
      "2\n",
      "3\n",
      "4\n",
      "5\n",
      "6\n",
      "7\n",
      "8\n",
      "9\n"
     ]
    }
   ],
   "source": [
    "for x in np.nditer(c):\n",
    "\n",
    "    print(x)"
   ]
  },
  {
   "cell_type": "code",
   "execution_count": 20,
   "id": "590107ad",
   "metadata": {},
   "outputs": [
    {
     "data": {
      "text/plain": [
       "array([1, 2, 3, 4])"
      ]
     },
     "execution_count": 20,
     "metadata": {},
     "output_type": "execute_result"
    }
   ],
   "source": [
    "a"
   ]
  },
  {
   "cell_type": "code",
   "execution_count": 24,
   "id": "268e97e0",
   "metadata": {},
   "outputs": [
    {
     "name": "stdout",
     "output_type": "stream",
     "text": [
      "(0,) 1\n",
      "(1,) 2\n",
      "(2,) 3\n",
      "(3,) 4\n"
     ]
    }
   ],
   "source": [
    "for index,x in np.ndenumerate(a):\n",
    "    print(index,x)"
   ]
  },
  {
   "cell_type": "code",
   "execution_count": 27,
   "id": "f7c21719",
   "metadata": {},
   "outputs": [
    {
     "data": {
      "text/plain": [
       "array([[[1, 2, 3],\n",
       "        [4, 5, 6],\n",
       "        [7, 8, 9]]])"
      ]
     },
     "execution_count": 27,
     "metadata": {},
     "output_type": "execute_result"
    }
   ],
   "source": [
    "c"
   ]
  },
  {
   "cell_type": "code",
   "execution_count": 46,
   "id": "5cbaccf9",
   "metadata": {},
   "outputs": [
    {
     "name": "stdout",
     "output_type": "stream",
     "text": [
      "(0, 0, 0) 1\n",
      "(0, 0, 1) 2\n",
      "(0, 0, 2) 3\n",
      "(0, 1, 0) 4\n",
      "(0, 1, 1) 5\n",
      "(0, 1, 2) 6\n",
      "(0, 2, 0) 7\n",
      "(0, 2, 1) 8\n",
      "(0, 2, 2) 9\n"
     ]
    }
   ],
   "source": [
    "for index,x in np.ndenumerate(c):\n",
    "    print(index,x)"
   ]
  },
  {
   "cell_type": "code",
   "execution_count": 28,
   "id": "a1f9cb2d",
   "metadata": {},
   "outputs": [
    {
     "data": {
      "text/plain": [
       "3"
      ]
     },
     "execution_count": 28,
     "metadata": {},
     "output_type": "execute_result"
    }
   ],
   "source": [
    "c.ndim"
   ]
  },
  {
   "cell_type": "code",
   "execution_count": 32,
   "id": "a0dc803e",
   "metadata": {},
   "outputs": [],
   "source": [
    "d=np.array([[[1,2,3,],[4,5,6],[7,8,9],[10,11,12]]])"
   ]
  },
  {
   "cell_type": "code",
   "execution_count": 33,
   "id": "6d6bba04",
   "metadata": {},
   "outputs": [
    {
     "data": {
      "text/plain": [
       "array([[[ 1,  2,  3],\n",
       "        [ 4,  5,  6],\n",
       "        [ 7,  8,  9],\n",
       "        [10, 11, 12]]])"
      ]
     },
     "execution_count": 33,
     "metadata": {},
     "output_type": "execute_result"
    }
   ],
   "source": [
    "d"
   ]
  },
  {
   "cell_type": "code",
   "execution_count": 45,
   "id": "d17f2886",
   "metadata": {},
   "outputs": [
    {
     "name": "stdout",
     "output_type": "stream",
     "text": [
      "(0, 0, 0) 1\n",
      "(0, 0, 1) 2\n",
      "(0, 0, 2) 3\n",
      "(0, 1, 0) 4\n",
      "(0, 1, 1) 5\n",
      "(0, 1, 2) 6\n",
      "(0, 2, 0) 7\n",
      "(0, 2, 1) 8\n",
      "(0, 2, 2) 9\n",
      "(0, 3, 0) 10\n",
      "(0, 3, 1) 11\n",
      "(0, 3, 2) 12\n"
     ]
    }
   ],
   "source": [
    "for index,x in np.ndenumerate(d):\n",
    "    print(index,x)"
   ]
  },
  {
   "cell_type": "code",
   "execution_count": 35,
   "id": "6608c8ee",
   "metadata": {},
   "outputs": [
    {
     "data": {
      "text/plain": [
       "array([1, 2, 3, 4])"
      ]
     },
     "execution_count": 35,
     "metadata": {},
     "output_type": "execute_result"
    }
   ],
   "source": [
    "a"
   ]
  },
  {
   "cell_type": "code",
   "execution_count": 37,
   "id": "76f5f5ec",
   "metadata": {},
   "outputs": [],
   "source": [
    "a1=np.array_split(a,2)"
   ]
  },
  {
   "cell_type": "code",
   "execution_count": 38,
   "id": "aa422140",
   "metadata": {},
   "outputs": [
    {
     "data": {
      "text/plain": [
       "[array([1, 2]), array([3, 4])]"
      ]
     },
     "execution_count": 38,
     "metadata": {},
     "output_type": "execute_result"
    }
   ],
   "source": [
    "a1"
   ]
  },
  {
   "cell_type": "code",
   "execution_count": 41,
   "id": "a2d76258",
   "metadata": {},
   "outputs": [],
   "source": [
    "a2=np.array_split(a,4)"
   ]
  },
  {
   "cell_type": "code",
   "execution_count": 42,
   "id": "14409ba3",
   "metadata": {},
   "outputs": [
    {
     "data": {
      "text/plain": [
       "[array([1]), array([2]), array([3]), array([4])]"
      ]
     },
     "execution_count": 42,
     "metadata": {},
     "output_type": "execute_result"
    }
   ],
   "source": [
    "a2"
   ]
  },
  {
   "cell_type": "code",
   "execution_count": 43,
   "id": "6be4c05a",
   "metadata": {},
   "outputs": [],
   "source": [
    "a3=np.array_split(a,3)"
   ]
  },
  {
   "cell_type": "code",
   "execution_count": 44,
   "id": "252d40f6",
   "metadata": {},
   "outputs": [
    {
     "data": {
      "text/plain": [
       "[array([1, 2]), array([3]), array([4])]"
      ]
     },
     "execution_count": 44,
     "metadata": {},
     "output_type": "execute_result"
    }
   ],
   "source": [
    "a3"
   ]
  },
  {
   "cell_type": "code",
   "execution_count": 47,
   "id": "a49bd147",
   "metadata": {},
   "outputs": [
    {
     "data": {
      "text/plain": [
       "array([1, 2, 3, 4])"
      ]
     },
     "execution_count": 47,
     "metadata": {},
     "output_type": "execute_result"
    }
   ],
   "source": [
    "a"
   ]
  },
  {
   "cell_type": "code",
   "execution_count": 48,
   "id": "b8a788e8",
   "metadata": {},
   "outputs": [],
   "source": [
    "e=np.where(a==4)"
   ]
  },
  {
   "cell_type": "code",
   "execution_count": 49,
   "id": "8f0fc172",
   "metadata": {},
   "outputs": [
    {
     "data": {
      "text/plain": [
       "(array([3], dtype=int64),)"
      ]
     },
     "execution_count": 49,
     "metadata": {},
     "output_type": "execute_result"
    }
   ],
   "source": [
    "e"
   ]
  },
  {
   "cell_type": "code",
   "execution_count": 50,
   "id": "b56e0f38",
   "metadata": {},
   "outputs": [],
   "source": [
    "mp=np.array([1,2,3,4,3,4,5,6,1,2,1,1,4,5,7,1,7,1])"
   ]
  },
  {
   "cell_type": "code",
   "execution_count": 51,
   "id": "ac50eb2c",
   "metadata": {},
   "outputs": [
    {
     "data": {
      "text/plain": [
       "array([1, 2, 3, 4, 3, 4, 5, 6, 1, 2, 1, 1, 4, 5, 7, 1, 7, 1])"
      ]
     },
     "execution_count": 51,
     "metadata": {},
     "output_type": "execute_result"
    }
   ],
   "source": [
    "mp"
   ]
  },
  {
   "cell_type": "code",
   "execution_count": 52,
   "id": "7208da85",
   "metadata": {},
   "outputs": [
    {
     "data": {
      "text/plain": [
       "(array([ 0,  8, 10, 11, 15, 17], dtype=int64),)"
      ]
     },
     "execution_count": 52,
     "metadata": {},
     "output_type": "execute_result"
    }
   ],
   "source": [
    "np.where(mp==1)"
   ]
  },
  {
   "cell_type": "code",
   "execution_count": 53,
   "id": "226788af",
   "metadata": {},
   "outputs": [
    {
     "data": {
      "text/plain": [
       "(array([ 3,  5,  6,  7, 12, 13, 14, 16], dtype=int64),)"
      ]
     },
     "execution_count": 53,
     "metadata": {},
     "output_type": "execute_result"
    }
   ],
   "source": [
    "np.where(mp>3)"
   ]
  },
  {
   "cell_type": "code",
   "execution_count": 54,
   "id": "772afaff",
   "metadata": {},
   "outputs": [
    {
     "data": {
      "text/plain": [
       "(array([ 1,  3,  5,  7,  9, 12], dtype=int64),)"
      ]
     },
     "execution_count": 54,
     "metadata": {},
     "output_type": "execute_result"
    }
   ],
   "source": [
    "np.where(mp %2==0)"
   ]
  },
  {
   "cell_type": "code",
   "execution_count": 55,
   "id": "05e7a210",
   "metadata": {},
   "outputs": [
    {
     "data": {
      "text/plain": [
       "array([1, 1, 1, 1, 1, 1, 2, 2, 3, 3, 4, 4, 4, 5, 5, 6, 7, 7])"
      ]
     },
     "execution_count": 55,
     "metadata": {},
     "output_type": "execute_result"
    }
   ],
   "source": [
    "np.sort(mp)     #but mp le mattam verulla "
   ]
  },
  {
   "cell_type": "code",
   "execution_count": 60,
   "id": "a9558354",
   "metadata": {},
   "outputs": [],
   "source": [
    "r=np.array([[[2,2,4],[3,6,5,],[8,1,3]]])"
   ]
  },
  {
   "cell_type": "code",
   "execution_count": 61,
   "id": "72282dc3",
   "metadata": {},
   "outputs": [
    {
     "data": {
      "text/plain": [
       "array([[[2, 2, 4],\n",
       "        [3, 6, 5],\n",
       "        [8, 1, 3]]])"
      ]
     },
     "execution_count": 61,
     "metadata": {},
     "output_type": "execute_result"
    }
   ],
   "source": [
    "r"
   ]
  },
  {
   "cell_type": "code",
   "execution_count": 62,
   "id": "591c341b",
   "metadata": {},
   "outputs": [
    {
     "data": {
      "text/plain": [
       "array([[[2, 2, 4],\n",
       "        [3, 5, 6],\n",
       "        [1, 3, 8]]])"
      ]
     },
     "execution_count": 62,
     "metadata": {},
     "output_type": "execute_result"
    }
   ],
   "source": [
    "np.sort(r)"
   ]
  },
  {
   "cell_type": "code",
   "execution_count": 64,
   "id": "fec75a35",
   "metadata": {},
   "outputs": [],
   "source": [
    "i=np.array([[['b','d','e'],['a','f','b'],['w','r','t']]])"
   ]
  },
  {
   "cell_type": "code",
   "execution_count": 65,
   "id": "78708231",
   "metadata": {},
   "outputs": [
    {
     "data": {
      "text/plain": [
       "array([[['b', 'd', 'e'],\n",
       "        ['a', 'f', 'b'],\n",
       "        ['w', 'r', 't']]], dtype='<U1')"
      ]
     },
     "execution_count": 65,
     "metadata": {},
     "output_type": "execute_result"
    }
   ],
   "source": [
    "i"
   ]
  },
  {
   "cell_type": "code",
   "execution_count": 66,
   "id": "fc51a70b",
   "metadata": {},
   "outputs": [
    {
     "data": {
      "text/plain": [
       "array([[['b', 'd', 'e'],\n",
       "        ['a', 'b', 'f'],\n",
       "        ['r', 't', 'w']]], dtype='<U1')"
      ]
     },
     "execution_count": 66,
     "metadata": {},
     "output_type": "execute_result"
    }
   ],
   "source": [
    "np.sort(i)"
   ]
  },
  {
   "cell_type": "code",
   "execution_count": 1,
   "id": "a9fd972b",
   "metadata": {},
   "outputs": [],
   "source": [
    "import numpy as np"
   ]
  },
  {
   "cell_type": "code",
   "execution_count": 17,
   "id": "dabeac8e",
   "metadata": {},
   "outputs": [],
   "source": [
    "a=np.array([23,53,45,67])"
   ]
  },
  {
   "cell_type": "code",
   "execution_count": 18,
   "id": "8f133681",
   "metadata": {},
   "outputs": [],
   "source": [
    "x=[True,False,False,True]"
   ]
  },
  {
   "cell_type": "code",
   "execution_count": 19,
   "id": "cd7f9a70",
   "metadata": {},
   "outputs": [],
   "source": [
    "new_a=a[x]"
   ]
  },
  {
   "cell_type": "code",
   "execution_count": 20,
   "id": "9cf456cb",
   "metadata": {},
   "outputs": [
    {
     "data": {
      "text/plain": [
       "array([23, 67])"
      ]
     },
     "execution_count": 20,
     "metadata": {},
     "output_type": "execute_result"
    }
   ],
   "source": [
    "new_a"
   ]
  },
  {
   "cell_type": "code",
   "execution_count": 41,
   "id": "5eb8558a",
   "metadata": {},
   "outputs": [],
   "source": [
    "filter_array=[]"
   ]
  },
  {
   "cell_type": "code",
   "execution_count": 39,
   "id": "06db5b82",
   "metadata": {},
   "outputs": [],
   "source": [
    "for i in a:\n",
    "    if i > 46:\n",
    "        filter_array.append(True)\n",
    "    else:\n",
    "        filter_array.append(False)"
   ]
  },
  {
   "cell_type": "code",
   "execution_count": 40,
   "id": "078765a5",
   "metadata": {},
   "outputs": [
    {
     "data": {
      "text/plain": [
       "[False, True, False, True]"
      ]
     },
     "execution_count": 40,
     "metadata": {},
     "output_type": "execute_result"
    }
   ],
   "source": [
    "filter_array"
   ]
  },
  {
   "cell_type": "code",
   "execution_count": 24,
   "id": "56a99a44",
   "metadata": {},
   "outputs": [],
   "source": [
    "new_a=a[filter_array]"
   ]
  },
  {
   "cell_type": "code",
   "execution_count": 25,
   "id": "a16fe3ee",
   "metadata": {},
   "outputs": [
    {
     "data": {
      "text/plain": [
       "array([53, 67])"
      ]
     },
     "execution_count": 25,
     "metadata": {},
     "output_type": "execute_result"
    }
   ],
   "source": [
    "new_a"
   ]
  },
  {
   "cell_type": "code",
   "execution_count": 43,
   "id": "157ddb28",
   "metadata": {},
   "outputs": [],
   "source": [
    "filter_array2=[]"
   ]
  },
  {
   "cell_type": "code",
   "execution_count": 44,
   "id": "3945631b",
   "metadata": {},
   "outputs": [],
   "source": [
    "filter_array2=a>46"
   ]
  },
  {
   "cell_type": "code",
   "execution_count": 45,
   "id": "183ed0fd",
   "metadata": {},
   "outputs": [
    {
     "data": {
      "text/plain": [
       "array([False,  True, False,  True])"
      ]
     },
     "execution_count": 45,
     "metadata": {},
     "output_type": "execute_result"
    }
   ],
   "source": [
    "filter_array2"
   ]
  },
  {
   "cell_type": "code",
   "execution_count": 46,
   "id": "9b7b23d4",
   "metadata": {},
   "outputs": [],
   "source": [
    "e=np.linspace(1,5)    #1 to 5 ollade verum point ollade avvum"
   ]
  },
  {
   "cell_type": "code",
   "execution_count": 47,
   "id": "81576225",
   "metadata": {},
   "outputs": [
    {
     "data": {
      "text/plain": [
       "array([1.        , 1.08163265, 1.16326531, 1.24489796, 1.32653061,\n",
       "       1.40816327, 1.48979592, 1.57142857, 1.65306122, 1.73469388,\n",
       "       1.81632653, 1.89795918, 1.97959184, 2.06122449, 2.14285714,\n",
       "       2.2244898 , 2.30612245, 2.3877551 , 2.46938776, 2.55102041,\n",
       "       2.63265306, 2.71428571, 2.79591837, 2.87755102, 2.95918367,\n",
       "       3.04081633, 3.12244898, 3.20408163, 3.28571429, 3.36734694,\n",
       "       3.44897959, 3.53061224, 3.6122449 , 3.69387755, 3.7755102 ,\n",
       "       3.85714286, 3.93877551, 4.02040816, 4.10204082, 4.18367347,\n",
       "       4.26530612, 4.34693878, 4.42857143, 4.51020408, 4.59183673,\n",
       "       4.67346939, 4.75510204, 4.83673469, 4.91836735, 5.        ])"
      ]
     },
     "execution_count": 47,
     "metadata": {},
     "output_type": "execute_result"
    }
   ],
   "source": [
    "e"
   ]
  },
  {
   "cell_type": "code",
   "execution_count": 48,
   "id": "9455ceb3",
   "metadata": {},
   "outputs": [],
   "source": [
    "d=np.linspace(1,5,5)     #nammake 5 ennam madiyagil"
   ]
  },
  {
   "cell_type": "code",
   "execution_count": 49,
   "id": "5e0aa73e",
   "metadata": {},
   "outputs": [
    {
     "data": {
      "text/plain": [
       "array([1., 2., 3., 4., 5.])"
      ]
     },
     "execution_count": 49,
     "metadata": {},
     "output_type": "execute_result"
    }
   ],
   "source": [
    "d"
   ]
  },
  {
   "cell_type": "code",
   "execution_count": 50,
   "id": "19547563",
   "metadata": {},
   "outputs": [],
   "source": [
    "r=np.linspace(1,5,2)"
   ]
  },
  {
   "cell_type": "code",
   "execution_count": 51,
   "id": "a918afad",
   "metadata": {},
   "outputs": [
    {
     "data": {
      "text/plain": [
       "array([1., 5.])"
      ]
     },
     "execution_count": 51,
     "metadata": {},
     "output_type": "execute_result"
    }
   ],
   "source": [
    "r"
   ]
  },
  {
   "cell_type": "code",
   "execution_count": 52,
   "id": "6bc3c544",
   "metadata": {},
   "outputs": [],
   "source": [
    "g=np.arange(10).reshape(2,5)"
   ]
  },
  {
   "cell_type": "code",
   "execution_count": 53,
   "id": "bf59e6af",
   "metadata": {},
   "outputs": [
    {
     "data": {
      "text/plain": [
       "array([[0, 1, 2, 3, 4],\n",
       "       [5, 6, 7, 8, 9]])"
      ]
     },
     "execution_count": 53,
     "metadata": {},
     "output_type": "execute_result"
    }
   ],
   "source": [
    "g"
   ]
  },
  {
   "cell_type": "code",
   "execution_count": 54,
   "id": "dad0d680",
   "metadata": {},
   "outputs": [
    {
     "data": {
      "text/plain": [
       "[array([[0, 1, 2, 3, 4]]), array([[5, 6, 7, 8, 9]])]"
      ]
     },
     "execution_count": 54,
     "metadata": {},
     "output_type": "execute_result"
    }
   ],
   "source": [
    "np.vsplit(g,2)"
   ]
  },
  {
   "cell_type": "code",
   "execution_count": 56,
   "id": "523c907c",
   "metadata": {},
   "outputs": [],
   "source": [
    "c=np.arange(10,25)"
   ]
  },
  {
   "cell_type": "code",
   "execution_count": 57,
   "id": "18c6059d",
   "metadata": {},
   "outputs": [
    {
     "data": {
      "text/plain": [
       "array([10, 11, 12, 13, 14, 15, 16, 17, 18, 19, 20, 21, 22, 23, 24])"
      ]
     },
     "execution_count": 57,
     "metadata": {},
     "output_type": "execute_result"
    }
   ],
   "source": [
    "c"
   ]
  },
  {
   "cell_type": "code",
   "execution_count": 60,
   "id": "b7e7b803",
   "metadata": {},
   "outputs": [
    {
     "data": {
      "text/plain": [
       "[array([10, 11, 12, 13, 14]),\n",
       " array([15, 16, 17, 18, 19]),\n",
       " array([20, 21, 22, 23, 24])]"
      ]
     },
     "execution_count": 60,
     "metadata": {},
     "output_type": "execute_result"
    }
   ],
   "source": [
    "np.hsplit(c,3)"
   ]
  },
  {
   "cell_type": "code",
   "execution_count": null,
   "id": "15e90ba6",
   "metadata": {},
   "outputs": [],
   "source": []
  }
 ],
 "metadata": {
  "kernelspec": {
   "display_name": "Python 3 (ipykernel)",
   "language": "python",
   "name": "python3"
  },
  "language_info": {
   "codemirror_mode": {
    "name": "ipython",
    "version": 3
   },
   "file_extension": ".py",
   "mimetype": "text/x-python",
   "name": "python",
   "nbconvert_exporter": "python",
   "pygments_lexer": "ipython3",
   "version": "3.11.4"
  }
 },
 "nbformat": 4,
 "nbformat_minor": 5
}
